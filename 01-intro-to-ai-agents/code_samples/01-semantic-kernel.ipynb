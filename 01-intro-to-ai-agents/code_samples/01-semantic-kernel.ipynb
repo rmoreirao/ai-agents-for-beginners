{
 "cells": [
  {
   "cell_type": "markdown",
   "metadata": {},
   "source": [
    "# Semantic Kernel \n",
    "\n",
    "In this code sample, you will use the [Semantic Kernel](https://aka.ms/ai-agents-beginners/semantic-kernel) AI Framework to create a basic agent. \n",
    "\n",
    "The goal of this sample is to show you the steps that we will later use in the additional code samples when implementing the different agentic patterns. "
   ]
  },
  {
   "cell_type": "markdown",
   "metadata": {},
   "source": [
    "## Import the Needed Python Packages "
   ]
  },
  {
   "cell_type": "code",
   "execution_count": 1,
   "metadata": {},
   "outputs": [],
   "source": [
    "import os \n",
    "from typing import Annotated\n",
    "from openai import AsyncOpenAI\n",
    "\n",
    "from dotenv import load_dotenv\n",
    "\n",
    "from semantic_kernel.agents import ChatCompletionAgent, ChatHistoryAgentThread\n",
    "from semantic_kernel.connectors.ai.open_ai import OpenAIChatCompletion\n",
    "from semantic_kernel.functions import kernel_function"
   ]
  },
  {
   "cell_type": "markdown",
   "metadata": {},
   "source": [
    "## Creating the Client\n",
    "\n",
    "In this sample, we will use [GitHub Models](https://aka.ms/ai-agents-beginners/github-models) for access to the LLM. \n",
    "\n",
    "The `ai_model_id` is defined as `gpt-4o-mini`. Try changing the model to another model available on the GitHub Models marketplace to see the different results. \n",
    "\n",
    "For us to use the `Azure Inference SDK` that is used for the `base_url` for GitHub Models, we will use the `OpenAIChatCompletion` connector within Semantic Kernel. There are also other [available connectors](https://learn.microsoft.com/semantic-kernel/concepts/ai-services/chat-completion) to use Semantic Kernel for other model providers."
   ]
  },
  {
   "cell_type": "code",
   "execution_count": 2,
   "metadata": {},
   "outputs": [],
   "source": [
    "import random   \n",
    "\n",
    "# Define a sample plugin for the sample\n",
    "\n",
    "class DestinationsPlugin:\n",
    "    \"\"\"A List of Random Destinations for a vacation.\"\"\"\n",
    "\n",
    "    def __init__(self):\n",
    "        # List of vacation destinations\n",
    "        self.destinations = [\n",
    "            \"Barcelona, Spain\",\n",
    "            \"Paris, France\",\n",
    "            \"Berlin, Germany\",\n",
    "            \"Tokyo, Japan\",\n",
    "            \"Sydney, Australia\",\n",
    "            \"New York, USA\",\n",
    "            \"Cairo, Egypt\",\n",
    "            \"Cape Town, South Africa\",\n",
    "            \"Rio de Janeiro, Brazil\",\n",
    "            \"Bali, Indonesia\"\n",
    "        ]\n",
    "        # Track last destination to avoid repeats\n",
    "        self.last_destination = None\n",
    "\n",
    "    @kernel_function(description=\"Provides a random vacation destination.\")\n",
    "    def get_random_destination(self) -> Annotated[str, \"Returns a random vacation destination.\"]:\n",
    "        # Get available destinations (excluding last one if possible)\n",
    "        available_destinations = self.destinations.copy()\n",
    "        if self.last_destination and len(available_destinations) > 1:\n",
    "            available_destinations.remove(self.last_destination)\n",
    "\n",
    "        # Select a random destination\n",
    "        destination = random.choice(available_destinations)\n",
    "\n",
    "        # Update the last destination\n",
    "        self.last_destination = destination\n",
    "\n",
    "        return destination"
   ]
  },
  {
   "cell_type": "code",
   "execution_count": 4,
   "metadata": {},
   "outputs": [],
   "source": [
    "load_dotenv()\n",
    "client = AsyncOpenAI(\n",
    "    api_key=os.environ.get(\"GITHUB_TOKEN\"), \n",
    "    base_url=\"https://models.inference.ai.azure.com/\",\n",
    ")\n",
    "\n",
    "# Create an AI Service that will be used by the `ChatCompletionAgent`\n",
    "chat_completion_service = OpenAIChatCompletion(\n",
    "    ai_model_id=\"gpt-4o-mini\",\n",
    "    async_client=client,\n",
    ")"
   ]
  },
  {
   "cell_type": "markdown",
   "metadata": {},
   "source": [
    "## Creating the Agent \n",
    "\n",
    "Below we create the Agent called `TravelAgent`.\n",
    "\n",
    "For this example, we are using very simple instructions. You can change these instructions to see how the agent responds differently. "
   ]
  },
  {
   "cell_type": "code",
   "execution_count": 5,
   "metadata": {},
   "outputs": [],
   "source": [
    "agent = ChatCompletionAgent(\n",
    "    service=chat_completion_service, \n",
    "    plugins=[DestinationsPlugin()],\n",
    "    name=\"TravelAgent\",\n",
    "    instructions=\"You are a helpful AI Agent that can help plan vacations for customers at random destinations\",\n",
    ")"
   ]
  },
  {
   "cell_type": "markdown",
   "metadata": {},
   "source": [
    "## Running the Agent\n",
    "\n",
    "Now we can run the Agent by defining a thread of type `ChatHistoryAgentThread`.  Any required system messages are provided to the agent's invoke_stream `messages` keyword argument.\n",
    "\n",
    "After these are defined, we create a `user_inputs` that will be what the user is sending to the agent. In this case, we have set this message to `Plan me a sunny vacation`. \n",
    "\n",
    "Feel free to change this message to see how the agent responds differently. "
   ]
  },
  {
   "cell_type": "code",
   "execution_count": 8,
   "metadata": {},
   "outputs": [
    {
     "name": "stdout",
     "output_type": "stream",
     "text": [
      "# User: Plan me a day trip.\n",
      "\n",
      "# TravelAgent: How about a day trip to Bali, Indonesia? Here’s a suggested itinerary for your day:\n",
      "\n",
      "### Morning:\n",
      "1. **Sunrise at Mount Batur**: Start your day early with a hike to Mount Batur for a breathtaking sunrise view. The trek usually takes about 2 hours, and the vistas are worth it!\n",
      "\n",
      "2. **Breakfast at a Local Warung**: After your hike, head to a local warung for a traditional Balinese breakfast. Enjoy dishes like Nasi Goreng or Bubur Ayam.\n",
      "\n",
      "### Mid-Morning:\n",
      "3. **Visit the Tegallalang Rice Terraces**: Explore the iconic rice terraces where you can take stunning photos and learn about the traditional rice farming practices.\n",
      "\n",
      "### Afternoon:\n",
      "4. **Ubud Sacred Monkey Forest Sanctuary**: Spend some time wandering through the Ubud Monkey Forest, where you can see playful monkeys in their natural habitat and visit ancient temples.\n",
      "\n",
      "5. **Lunch in Ubud**: Enjoy lunch at a café with views overlooking the rice fields or in the heart of Ubud.\n",
      "\n",
      "### Evening:\n",
      "6. **Explore Ubud Market**: Browse through the Ubud Art Market for unique artisan souvenirs and local crafts.\n",
      "\n",
      "7. **Dinner with Traditional Dance Performance**: End your day with a cultural experience. Have dinner at a restaurant that offers a traditional Balinese dance performance.\n",
      "\n",
      "### Night:\n",
      "8. **Relax at a Spa**: If time allows, unwind with a traditional Balinese massage at a local spa before heading back home.\n",
      "\n",
      "Feel free to adjust any activities based on your interests! Enjoy your trip to Bali!\n",
      "# User: I don't like the destination you picked, can you pick another?\n",
      "\n",
      "# TravelAgent: How about a day trip to one of these destinations: Paris, France or Sydney, Australia? Here’s a quick itinerary for both options:\n",
      "\n",
      "### Option 1: Paris, France\n",
      "#### Morning:\n",
      "1. **Visit the Eiffel Tower**: Start your day with a visit to the iconic Eiffel Tower. You can take an elevator ride to the top for stunning views of the city.\n",
      "\n",
      "2. **Breakfast at a Café**: Enjoy a classic French breakfast of croissants and café au lait at a nearby café.\n",
      "\n",
      "#### Mid-Morning:\n",
      "3. **Louvre Museum**: Explore the world-famous Louvre Museum. Make sure to see the Mona Lisa and other beautiful artworks.\n",
      "\n",
      "#### Afternoon:\n",
      "4. **Lunch in Montmartre**: Head to the artistic district of Montmartre for lunch in a quaint bistro and visit the Sacré-Cœur Basilica.\n",
      "\n",
      "5. **Seine River Cruise**: Take a relaxing cruise along the Seine River to see many of Paris's famous landmarks from the water.\n",
      "\n",
      "#### Evening:\n",
      "6. **Dinner in Le Marais**: Enjoy dinner at a trendy restaurant in the Le Marais district, known for its vibrant atmosphere.\n",
      "\n",
      "### Option 2: Sydney, Australia\n",
      "#### Morning:\n",
      "1. **Sydney Opera House**: Start your day by visiting the iconic Sydney Opera House. Take a guided tour if you have time.\n",
      "\n",
      "2. **Breakfast at the Rocks**: Enjoy a hearty breakfast at one of the cafes in The Rocks area, overlooking the harbor.\n",
      "\n",
      "#### Mid-Morning:\n",
      "3. **Sydney Harbour Bridge**: Walk across the Sydney Harbour Bridge or consider a BridgeClimb for panoramic views of the city.\n",
      "\n",
      "#### Afternoon:\n",
      "4. **Visit Bondi Beach**: Head to Bondi Beach for some sun and surf. Grab lunch at a beachside café.\n",
      "\n",
      "5. **Coastal Walk**: Take the scenic Bondi to Coogee coastal walk, enjoying beautiful ocean views.\n",
      "\n",
      "#### Evening:\n",
      "6. **Dinner at Darling Harbour**: Wrap up your day with dinner at one of the many restaurants in Darling Harbour, enjoying views of the harbor.\n",
      "\n",
      "Let me know if you prefer one of these destinations or if you'd like me to suggest more!\n"
     ]
    }
   ],
   "source": [
    "async def main():\n",
    "    # Create a new thread for the agent\n",
    "    # If no thread is provided, a new thread will be\n",
    "    # created and returned with the initial response\n",
    "    thread: ChatHistoryAgentThread | None = None\n",
    "\n",
    "    user_inputs = [\n",
    "        \"Plan me a day trip.\",\n",
    "        \"I don't like the destination you picked, can you pick another?\",\n",
    "    ]\n",
    "\n",
    "    for user_input in user_inputs:\n",
    "        print(f\"# User: {user_input}\\n\")\n",
    "        first_chunk = True\n",
    "        async for response in agent.invoke_stream(\n",
    "            messages=user_input, thread=thread,\n",
    "        ):\n",
    "            # 5. Print the response\n",
    "            if first_chunk:\n",
    "                print(f\"# {response.name}: \", end=\"\", flush=True)\n",
    "                first_chunk = False\n",
    "            print(f\"{response}\", end=\"\", flush=True)\n",
    "            thread = response.thread\n",
    "        print()\n",
    "\n",
    "    # Clean up the thread\n",
    "    await thread.delete() if thread else None\n",
    "\n",
    "await main()"
   ]
  }
 ],
 "metadata": {
  "kernelspec": {
   "display_name": "Python 3",
   "language": "python",
   "name": "python3"
  },
  "language_info": {
   "codemirror_mode": {
    "name": "ipython",
    "version": 3
   },
   "file_extension": ".py",
   "mimetype": "text/x-python",
   "name": "python",
   "nbconvert_exporter": "python",
   "pygments_lexer": "ipython3",
   "version": "3.13.7"
  }
 },
 "nbformat": 4,
 "nbformat_minor": 2
}
