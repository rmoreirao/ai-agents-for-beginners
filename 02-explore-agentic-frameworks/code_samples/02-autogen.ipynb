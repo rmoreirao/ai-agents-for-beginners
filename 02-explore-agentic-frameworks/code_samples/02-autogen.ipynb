{
 "cells": [
  {
   "cell_type": "markdown",
   "metadata": {},
   "source": [
    "# AutoGen Basic Sample \n",
    "\n",
    "In this code sample, you will use the [AutoGen](https://aka.ms/ai-agents/autogen) AI Framework to create a basic agent. \n",
    "\n",
    "The goal of this sample is to show you the steps that we will later use in the additional code samples when implementing the different agentic patterns. "
   ]
  },
  {
   "cell_type": "markdown",
   "metadata": {},
   "source": [
    "## Import the Needed Python Packages "
   ]
  },
  {
   "cell_type": "code",
   "execution_count": 1,
   "metadata": {},
   "outputs": [],
   "source": [
    "import os\n",
    "from dotenv import load_dotenv\n",
    "\n",
    "from autogen_agentchat.agents import AssistantAgent\n",
    "from autogen_core.models import UserMessage\n",
    "from autogen_ext.models.azure import AzureAIChatCompletionClient\n",
    "from azure.core.credentials import AzureKeyCredential\n",
    "from autogen_core import CancellationToken\n",
    "\n",
    "from autogen_agentchat.messages import TextMessage\n",
    "from autogen_agentchat.ui import Console\n"
   ]
  },
  {
   "cell_type": "markdown",
   "metadata": {},
   "source": [
    "## Create the Client \n",
    "\n",
    "In this sample, we will use [GitHub Models](https://aka.ms/ai-agents-beginners/github-models) for access to the LLM. \n",
    "\n",
    "The `model` is defined as `gpt-4o-mini`. Try changing the model to another model available on the GitHub Models marketplace to see the different results. \n",
    "\n",
    "As a quick test, we will just run a simple prompt - `What is the capital of France`. "
   ]
  },
  {
   "cell_type": "code",
   "execution_count": 2,
   "metadata": {},
   "outputs": [
    {
     "name": "stderr",
     "output_type": "stream",
     "text": [
      "/home/vscode/.local/lib/python3.13/site-packages/autogen_ext/models/azure/_azure_ai_client.py:307: UserWarning: Missing required field 'structured_output' in ModelInfo. This field will be required in a future version of AutoGen.\n",
      "  validate_model_info(config[\"model_info\"])\n"
     ]
    },
    {
     "name": "stdout",
     "output_type": "stream",
     "text": [
      "finish_reason='stop' content='The capital of France is Paris.' usage=RequestUsage(prompt_tokens=14, completion_tokens=8) cached=False logprobs=None thought=None\n"
     ]
    }
   ],
   "source": [
    "load_dotenv()\n",
    "client = AzureAIChatCompletionClient(\n",
    "    model=\"gpt-4o-mini\",\n",
    "    endpoint=\"https://models.inference.ai.azure.com\",\n",
    "    # To authenticate with the model you will need to generate a personal access token (PAT) in your GitHub settings.\n",
    "    # Create your PAT token by following instructions here: https://docs.github.com/en/authentication/keeping-your-account-and-data-secure/managing-your-personal-access-tokens\n",
    "    credential=AzureKeyCredential(os.getenv(\"GITHUB_TOKEN\")),\n",
    "    model_info={\n",
    "        \"json_output\": True,\n",
    "        \"function_calling\": True,\n",
    "        \"vision\": True,\n",
    "        \"family\": \"unknown\",\n",
    "    },\n",
    ")\n",
    "\n",
    "result = await client.create([UserMessage(content=\"What is the capital of France?\", source=\"user\")])\n",
    "print(result)"
   ]
  },
  {
   "cell_type": "markdown",
   "metadata": {},
   "source": [
    "## Defining the Agent \n",
    "\n",
    "Now that we have set up the `client` and confirmed that it is working, let us create an `AssistantAgent`. Each agent can be assigned a: \n",
    "**name** - A short hand name that will be useful in referencing it in multi-agent flows. \n",
    "**model_client** - The client that you created in the earlier step. \n",
    "**tools** - Available tools that the Agent can use to complete a task.\n",
    "**system_message** - The metaprompt that defines the task, behavior and tone of the LLM. \n",
    "\n",
    "You can change the system message to see how the LLM responds. We will cover `tools` in Lesson #4. \n"
   ]
  },
  {
   "cell_type": "code",
   "execution_count": 3,
   "metadata": {},
   "outputs": [],
   "source": [
    "agent = AssistantAgent(\n",
    "    name=\"assistant\",\n",
    "    model_client=client,\n",
    "    tools=[],\n",
    "    system_message=\"You are a travel agent that plans great vacations\",\n",
    ")"
   ]
  },
  {
   "cell_type": "markdown",
   "metadata": {},
   "source": [
    "## Run the Agent \n",
    "\n",
    "The below function will run the agent. We use the the `on_message` method to update the Agent's state with the new message. \n",
    "\n",
    "In this case, we update the state with a new message from the user which is `\"Plan me a great sunny vacation\"`.\n",
    "\n",
    "You can change the message content to see how the LLM responds differently. "
   ]
  },
  {
   "cell_type": "code",
   "execution_count": 5,
   "metadata": {},
   "outputs": [
    {
     "data": {
      "text/html": [
       "<div style='margin-bottom:10px'><div style='font-weight:bold'>User:</div><div style='margin-left:20px'>Plan me a great sunny vacation</div></div><div style='margin-bottom:20px'><div style='font-weight:bold'>Assistant:</div><div style='margin-left:20px; white-space:pre-wrap'>Absolutely! Let's create a fantastic sunny vacation itinerary to one of the beautiful destinations known for its sunny weather, stunning beaches, and exciting activities. This time, let’s plan a week-long escape to **Maui, Hawaii**.\n",
       "\n",
       "### Destination: Maui, Hawaii\n",
       "\n",
       "#### Day 1: Arrival\n",
       "- **Flight**: Arrive at Kahului Airport (OGG) in Maui.\n",
       "- **Accommodations**: Check into a beachfront resort like **Hyatt Regency Maui Resort & Spa** or **Fairmont Kea Lani**.\n",
       "- **Evening**: Relax and watch the sunset over the ocean at the resort. Dine at the hotel’s restaurant or explore nearby **Lahaina**, a charming historic town with various dining options.\n",
       "\n",
       "#### Day 2: Beach Exploration\n",
       "- **Morning**: Spend the day at **Kaanapali Beach**. Enjoy swimming, snorkeling, or simply relaxing on the golden sands.\n",
       "- **Lunch**: Grab a light lunch at **Duke’s Beach House**.\n",
       "- **Afternoon**: Try stand-up paddleboarding or take a surf lesson.\n",
       "- **Evening**: Attend a traditional Hawaiian luau, such as the **Old Lahaina Luau**, for a cultural experience with food and performances.\n",
       "\n",
       "#### Day 3: Road to Hana\n",
       "- **Day Trip**: Drive the famous **Road to Hana**. Stop at scenic points along the way, including:\n",
       "  - A visit to **Twin Falls**\n",
       "  - **Waikamoi Nature Trail**\n",
       "  - **Wai'anapanapa State Park** for black sand beaches\n",
       "- **Lunch**: Pack a picnic or grab snacks at local fruit stands.\n",
       "- **Evening**: Return back and relax at your resort. Enjoy a laid-back dinner.\n",
       "\n",
       "#### Day 4: Haleakalā National Park\n",
       "- **Early Morning**: Depart before sunrise for **Haleakalā National Park** to witness a breathtaking sunrise from the summit.\n",
       "- **Morning**: After sunrise, explore the hiking trails in the park.\n",
       "- **Lunch**: Visit a local eatery in **Kula** for farm-to-table dishes.\n",
       "- **Afternoon**: Head back and spend the afternoon at **Wailea Beach**.\n",
       "- **Evening**: Dine at **Mama's Fish House**, known for its fresh seafood and stunning ocean views.\n",
       "\n",
       "#### Day 5: Molokini Crater Snorkeling\n",
       "- **Day Trip**: Take a snorkeling tour to **Molokini Crater**, a marine preserve known for its crystal-clear waters and diverse marine life.\n",
       "- **Lunch**: Enjoy a catered lunch on the boat or at a beach.\n",
       "- **Afternoon**: Continue snorkeling or visit **Turtle Town** for a chance to swim with sea turtles.\n",
       "- **Evening**: Return to Maui and unwind at the resort.\n",
       "\n",
       "#### Day 6: Explore Upcountry Maui\n",
       "- **Morning**: Visit **Maui Winery** for a tour and tasting.\n",
       "- **Midday**: Explore **Makawao**, an artist town with unique shops and galleries.\n",
       "- **Lunch**: Enjoy lunch at **Casablanca** in Makawao.\n",
       "- **Afternoon**: Explore the nearby **Ali'i Kula Lavender Farm** for stunning views and fragrant flowers.\n",
       "- **Evening**: Return to the coast for a relaxed dinner at **Sansei Seafood Restaurant & Sushi Bar**.\n",
       "\n",
       "#### Day 7: Relaxation and Departure\n",
       "- **Morning**: Enjoy your last morning at the beach or pool, soaking up the sun.\n",
       "- **Breakfast**: Have a leisurely breakfast at the resort.\n",
       "- **Check-Out**: Pack your bags and check out of the hotel.\n",
       "- **Departure**: Head to Kahului Airport for your flight home.\n",
       "\n",
       "### Extra Tips:\n",
       "- **Transportation**: Renting a car is highly recommended for flexibility and exploring the island.\n",
       "- **Pack Essentials**: Sunscreen, swimwear, light clothing, hiking shoes, and a reusable water bottle.\n",
       "- **Best Time to Visit**: The ideal time to visit Maui is from April to June and September to November for pleasant weather and fewer tourists.\n",
       "\n",
       "Let me know if you'd like to modify any aspects of the itinerary or if you have additional preferences! Enjoy your sunny getaway!</div></div>"
      ],
      "text/plain": [
       "<IPython.core.display.HTML object>"
      ]
     },
     "metadata": {},
     "output_type": "display_data"
    }
   ],
   "source": [
    "from IPython.display import display, HTML\n",
    "\n",
    "\n",
    "async def assistant_run():\n",
    "    # Define the query\n",
    "    user_query = \"Plan me a great sunny vacation\"\n",
    "\n",
    "    # Start building HTML output\n",
    "    html_output = \"<div style='margin-bottom:10px'>\"\n",
    "    html_output += \"<div style='font-weight:bold'>User:</div>\"\n",
    "    html_output += f\"<div style='margin-left:20px'>{user_query}</div>\"\n",
    "    html_output += \"</div>\"\n",
    "\n",
    "    # Execute the agent response\n",
    "    response = await agent.on_messages(\n",
    "        [TextMessage(content=user_query, source=\"user\")],\n",
    "        cancellation_token=CancellationToken(),\n",
    "    )\n",
    "\n",
    "    # Add agent response to HTML\n",
    "    html_output += \"<div style='margin-bottom:20px'>\"\n",
    "    html_output += \"<div style='font-weight:bold'>Assistant:</div>\"\n",
    "    html_output += f\"<div style='margin-left:20px; white-space:pre-wrap'>{response.chat_message.content}</div>\"\n",
    "    html_output += \"</div>\"\n",
    "\n",
    "    # Display formatted HTML\n",
    "    display(HTML(html_output))\n",
    "\n",
    "# Run the function\n",
    "await assistant_run()"
   ]
  }
 ],
 "metadata": {
  "kernelspec": {
   "display_name": "Python 3",
   "language": "python",
   "name": "python3"
  },
  "language_info": {
   "codemirror_mode": {
    "name": "ipython",
    "version": 3
   },
   "file_extension": ".py",
   "mimetype": "text/x-python",
   "name": "python",
   "nbconvert_exporter": "python",
   "pygments_lexer": "ipython3",
   "version": "3.13.7"
  }
 },
 "nbformat": 4,
 "nbformat_minor": 2
}
